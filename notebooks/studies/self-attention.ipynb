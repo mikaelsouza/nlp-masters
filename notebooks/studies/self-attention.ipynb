{
 "cells": [
  {
   "cell_type": "markdown",
   "metadata": {},
   "source": [
    "# Estudo de Self-Attention"
   ]
  },
  {
   "cell_type": "markdown",
   "metadata": {},
   "source": [
    "### Gerando Inputs"
   ]
  },
  {
   "cell_type": "code",
   "execution_count": 1,
   "metadata": {
    "tags": []
   },
   "outputs": [],
   "source": [
    "import torch\n",
    "import numpy as np"
   ]
  },
  {
   "cell_type": "markdown",
   "metadata": {},
   "source": [
    "Sentenças Fictícias:\n",
    "\n",
    "- o mikas ta ali\n",
    "- eu gosto de batata frita\n",
    "- existem elefantes\n",
    "\n",
    "Informações\n",
    "- O tamanho da maior sentença é 5.\n",
    "- Temos 3 exemplos de teste.\n",
    "- Usaremos inteiros para representar cada palavra.\n",
    "- Usaremos 0 para representar os espaços vazios das sentenças.\n",
    "- O tamanho do nosso vocabulário é 12 pois temos 12 palavras distintas.\n"
   ]
  },
  {
   "cell_type": "code",
   "execution_count": 2,
   "metadata": {
    "tags": []
   },
   "outputs": [
    {
     "output_type": "stream",
     "name": "stdout",
     "text": "Temos 3 sentenças e a maior sentença tem 5 tokens.\n"
    },
    {
     "output_type": "execute_result",
     "data": {
      "text/plain": "torch.Size([3, 5])"
     },
     "metadata": {},
     "execution_count": 2
    }
   ],
   "source": [
    "sentence_matrix = torch.LongTensor([\n",
    "    [1,   2,  3,  4, 0], #       o     mikas   ta      ali\n",
    "    [5,   6,  7,  8, 9], #      eu     gosto   de   batata   frita\n",
    "    [10, 11,  0,  0, 0], # existem elefantes\n",
    "\n",
    "])\n",
    "qnt_sentences, max_sentence_len = sentence_matrix.shape\n",
    "print(f\"Temos {qnt_sentences} sentenças e a maior sentença tem {max_sentence_len} tokens.\")\n",
    "sentence_matrix.shape"
   ]
  },
  {
   "cell_type": "markdown",
   "metadata": {},
   "source": [
    "Em geral não usamos representações inteiras para representar palavras, mas sim embedding.\n",
    "\n",
    "Geraremos embeddings fictícios de tamanho 10 para os 12 tokens disponíveis no vocabulário."
   ]
  },
  {
   "cell_type": "code",
   "execution_count": 3,
   "metadata": {
    "tags": []
   },
   "outputs": [
    {
     "output_type": "stream",
     "name": "stdout",
     "text": "Temos 5 embeddings de tamanho 10.\n"
    }
   ],
   "source": [
    "vocab_size = len(sentence_matrix.unique())\n",
    "embedding_size = 10\n",
    "embeddings = np.random.random((vocab_size, embedding_size))\n",
    "# Convertendo para tensor:\n",
    "embeddings = torch.Tensor(embeddings)\n",
    "print(f\"Temos {max_sentence_len} embeddings de tamanho {embedding_size}.\")"
   ]
  },
  {
   "cell_type": "markdown",
   "metadata": {},
   "source": [
    "Agora geraremos a matriz de input para os modelos.\n",
    "\n",
    "- Nela teremos o shape 3, 5, 10 que representam as 3 sentenças com no máximo 5 tokens.\n",
    "- Cada token é representado por um embedding de tamanho 10."
   ]
  },
  {
   "cell_type": "code",
   "execution_count": 4,
   "metadata": {
    "tags": []
   },
   "outputs": [
    {
     "output_type": "stream",
     "name": "stdout",
     "text": "Temos 3 instancias de no máximo 5 tokens representados por embeddings de tamanho 10.\n"
    },
    {
     "output_type": "execute_result",
     "data": {
      "text/plain": "torch.Size([3, 5, 10])"
     },
     "metadata": {},
     "execution_count": 4
    }
   ],
   "source": [
    "indexes = sentence_matrix\n",
    "input_matrix = embeddings[indexes]\n",
    "print(f\"Temos {input_matrix.shape[0]} instancias de no máximo {input_matrix.shape[1]} tokens representados por embeddings de tamanho {input_matrix.shape[2]}.\")\n",
    "input_matrix.shape"
   ]
  },
  {
   "cell_type": "markdown",
   "metadata": {},
   "source": [
    "### Passando inputs pela camada de RNN:\n",
    "\n",
    "A atenção é gerada a partir dos dados gerados na camada de RNN, portanto passaremos o input pela camada de RNN:"
   ]
  },
  {
   "cell_type": "code",
   "execution_count": 5,
   "metadata": {
    "tags": []
   },
   "outputs": [
    {
     "output_type": "stream",
     "name": "stdout",
     "text": "torch.Size([3, 5, 100])\ntorch.Size([1, 3, 100])\n"
    }
   ],
   "source": [
    "rnn = torch.nn.RNN(input_size=embedding_size, hidden_size=100, batch_first=True)\n",
    "output, hidden = rnn(input_matrix)\n",
    "print(output.shape)\n",
    "print(hidden.shape)"
   ]
  },
  {
   "cell_type": "code",
   "execution_count": 6,
   "metadata": {},
   "outputs": [
    {
     "output_type": "execute_result",
     "data": {
      "text/plain": "(tensor([ 9.4811e-02,  1.3441e-02,  9.6388e-02, -8.9834e-02,  1.8093e-01,\n          2.6396e-01, -1.8504e-01,  1.5269e-01, -6.6017e-02,  1.7505e-02,\n          1.1906e-01,  3.3337e-02,  2.8739e-01, -1.5441e-01, -2.2413e-02,\n          1.8803e-01,  1.7794e-01,  2.5703e-01, -1.2328e-01,  1.8018e-01,\n          2.6090e-02,  9.8289e-02, -4.7861e-02, -9.9889e-02, -2.8985e-02,\n          4.1652e-02, -1.4378e-01,  1.2372e-01, -1.7425e-01, -3.1504e-01,\n         -7.0133e-02, -3.0654e-02,  2.6089e-02,  8.3277e-02,  3.3576e-02,\n          8.7471e-02,  3.2080e-01,  1.6881e-01, -4.8522e-02, -9.6803e-02,\n          2.4317e-04, -2.6249e-01, -4.5399e-02,  7.3564e-02, -6.7889e-02,\n         -8.3345e-02,  2.2448e-01, -3.3408e-02,  4.3858e-02,  1.0946e-01,\n         -1.0805e-01,  5.6446e-02,  1.7231e-02, -7.0411e-02,  2.8738e-01,\n          2.0808e-01,  2.4116e-01,  2.0884e-01, -4.7129e-02, -5.2680e-02,\n          1.8771e-02,  1.8045e-01, -3.0577e-01, -2.4539e-01,  1.2513e-01,\n          1.9099e-01,  1.4139e-01, -2.2470e-01, -8.9637e-02,  1.8070e-01,\n          2.1838e-01, -1.6574e-01,  2.6660e-01,  5.0909e-02, -1.0638e-01,\n          9.1173e-02,  3.7633e-01, -1.2624e-01, -2.6426e-01, -5.1451e-02,\n          2.6234e-01,  8.0784e-02,  1.9262e-02,  1.7845e-01,  4.2811e-03,\n         -2.8589e-02, -3.3958e-01,  2.1607e-02, -3.3800e-01, -2.6733e-01,\n          1.3326e-01, -9.4536e-03, -4.4089e-02, -2.4796e-01,  1.4931e-02,\n         -6.7462e-02,  4.8298e-02, -6.2182e-02, -4.6799e-02,  9.1874e-02],\n        grad_fn=<SelectBackward>),\n tensor([ 9.4811e-02,  1.3441e-02,  9.6388e-02, -8.9834e-02,  1.8093e-01,\n          2.6396e-01, -1.8504e-01,  1.5269e-01, -6.6017e-02,  1.7505e-02,\n          1.1906e-01,  3.3337e-02,  2.8739e-01, -1.5441e-01, -2.2413e-02,\n          1.8803e-01,  1.7794e-01,  2.5703e-01, -1.2328e-01,  1.8018e-01,\n          2.6090e-02,  9.8289e-02, -4.7861e-02, -9.9889e-02, -2.8985e-02,\n          4.1652e-02, -1.4378e-01,  1.2372e-01, -1.7425e-01, -3.1504e-01,\n         -7.0133e-02, -3.0654e-02,  2.6089e-02,  8.3277e-02,  3.3576e-02,\n          8.7471e-02,  3.2080e-01,  1.6881e-01, -4.8522e-02, -9.6803e-02,\n          2.4317e-04, -2.6249e-01, -4.5399e-02,  7.3564e-02, -6.7889e-02,\n         -8.3345e-02,  2.2448e-01, -3.3408e-02,  4.3858e-02,  1.0946e-01,\n         -1.0805e-01,  5.6446e-02,  1.7231e-02, -7.0411e-02,  2.8738e-01,\n          2.0808e-01,  2.4116e-01,  2.0884e-01, -4.7129e-02, -5.2680e-02,\n          1.8771e-02,  1.8045e-01, -3.0577e-01, -2.4539e-01,  1.2513e-01,\n          1.9099e-01,  1.4139e-01, -2.2470e-01, -8.9637e-02,  1.8070e-01,\n          2.1838e-01, -1.6574e-01,  2.6660e-01,  5.0909e-02, -1.0638e-01,\n          9.1173e-02,  3.7633e-01, -1.2624e-01, -2.6426e-01, -5.1451e-02,\n          2.6234e-01,  8.0784e-02,  1.9262e-02,  1.7845e-01,  4.2811e-03,\n         -2.8589e-02, -3.3958e-01,  2.1607e-02, -3.3800e-01, -2.6733e-01,\n          1.3326e-01, -9.4536e-03, -4.4089e-02, -2.4796e-01,  1.4931e-02,\n         -6.7462e-02,  4.8298e-02, -6.2182e-02, -4.6799e-02,  9.1874e-02],\n        grad_fn=<SelectBackward>))"
     },
     "metadata": {},
     "execution_count": 6
    }
   ],
   "source": [
    "output[0][4], hidden[0][0]"
   ]
  },
  {
   "cell_type": "code",
   "execution_count": null,
   "metadata": {},
   "outputs": [],
   "source": []
  }
 ],
 "metadata": {
  "language_info": {
   "codemirror_mode": {
    "name": "ipython",
    "version": 3
   },
   "file_extension": ".py",
   "mimetype": "text/x-python",
   "name": "python",
   "nbconvert_exporter": "python",
   "pygments_lexer": "ipython3",
   "version": "3.8.2-final"
  },
  "orig_nbformat": 2,
  "kernelspec": {
   "name": "python38264bitgeneralvenvc4cf915d2c6c41e5adbfa847c95cabc9",
   "display_name": "Python 3.8.2 64-bit ('general': venv)"
  }
 },
 "nbformat": 4,
 "nbformat_minor": 2
}