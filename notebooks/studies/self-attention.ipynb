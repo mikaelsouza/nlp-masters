{
 "cells": [
  {
   "cell_type": "markdown",
   "metadata": {},
   "source": [
    "# Estudo de Self-Attention"
   ]
  },
  {
   "cell_type": "markdown",
   "metadata": {},
   "source": [
    "### Gerando Inputs"
   ]
  },
  {
   "cell_type": "code",
   "execution_count": 1,
   "metadata": {
    "tags": []
   },
   "outputs": [],
   "source": [
    "import torch\n",
    "import numpy as np"
   ]
  },
  {
   "cell_type": "markdown",
   "metadata": {},
   "source": [
    "Sentenças Fictícias:\n",
    "\n",
    "- o mikas ta ali\n",
    "- eu gosto de batata frita\n",
    "- existem elefantes\n",
    "\n",
    "Informações\n",
    "- O tamanho da maior sentença é 5.\n",
    "- Temos 3 exemplos de teste.\n",
    "- Usaremos inteiros para representar cada palavra.\n",
    "- Usaremos 0 para representar os espaços vazios das sentenças.\n",
    "- O tamanho do nosso vocabulário é 12 pois temos 12 palavras distintas.\n"
   ]
  },
  {
   "cell_type": "code",
   "execution_count": 2,
   "metadata": {
    "tags": []
   },
   "outputs": [
    {
     "output_type": "stream",
     "name": "stdout",
     "text": "Temos 3 sentenças e a maior sentença tem 5 tokens.\n"
    },
    {
     "output_type": "execute_result",
     "data": {
      "text/plain": "torch.Size([3, 5])"
     },
     "metadata": {},
     "execution_count": 2
    }
   ],
   "source": [
    "sentence_matrix = torch.LongTensor([\n",
    "    [1,   2,  3,  4, 0], #       o     mikas   ta      ali\n",
    "    [5,   6,  7,  8, 9], #      eu     gosto   de   batata   frita\n",
    "    [10, 11,  0,  0, 0], # existem elefantes\n",
    "\n",
    "])\n",
    "qnt_sentences, max_sentence_len = sentence_matrix.shape\n",
    "print(f\"Temos {qnt_sentences} sentenças e a maior sentença tem {max_sentence_len} tokens.\")\n",
    "sentence_matrix.shape"
   ]
  },
  {
   "cell_type": "markdown",
   "metadata": {},
   "source": [
    "Em geral não usamos representações inteiras para representar palavras, mas sim embedding.\n",
    "\n",
    "Geraremos embeddings fictícios de tamanho 10 para os 12 tokens disponíveis no vocabulário."
   ]
  },
  {
   "cell_type": "code",
   "execution_count": 3,
   "metadata": {
    "tags": []
   },
   "outputs": [
    {
     "output_type": "stream",
     "name": "stdout",
     "text": "Temos 5 embeddings de tamanho 10.\n"
    }
   ],
   "source": [
    "vocab_size = len(sentence_matrix.unique())\n",
    "embedding_size = 10\n",
    "embeddings = np.random.random((vocab_size, embedding_size))\n",
    "# Convertendo para tensor:\n",
    "embeddings = torch.Tensor(embeddings)\n",
    "print(f\"Temos {max_sentence_len} embeddings de tamanho {embedding_size}.\")"
   ]
  },
  {
   "cell_type": "markdown",
   "metadata": {},
   "source": [
    "Agora geraremos a matriz de input para os modelos.\n",
    "\n",
    "- Nela teremos o shape 3, 5, 10 que representam as 3 sentenças com no máximo 5 tokens.\n",
    "- Cada token é representado por um embedding de tamanho 10."
   ]
  },
  {
   "cell_type": "code",
   "execution_count": 4,
   "metadata": {
    "tags": []
   },
   "outputs": [
    {
     "output_type": "stream",
     "name": "stdout",
     "text": "Temos 3 instancias de no máximo 5 tokens representados por embeddings de tamanho 10.\n"
    },
    {
     "output_type": "execute_result",
     "data": {
      "text/plain": "torch.Size([3, 5, 10])"
     },
     "metadata": {},
     "execution_count": 4
    }
   ],
   "source": [
    "indexes = sentence_matrix\n",
    "input_matrix = embeddings[indexes]\n",
    "print(\"Temos {0} instancias de no máximo {1} tokens representados por embeddings de tamanho {2}.\".format(*input_matrix.shape))\n",
    "input_matrix.shape"
   ]
  },
  {
   "cell_type": "markdown",
   "metadata": {},
   "source": [
    "### Passando inputs pela camada de RNN:\n",
    "\n",
    "A atenção é gerada a partir dos outputs gerados pela camada da RNN, portanto passaremos o input pela camada de RNN:\n",
    "\n",
    "A nova saída da RNN vai ter shape (3, 5, 100) onde 3 é o número de batches, 5 é o tamanho máximo da sequência e 4 é o tamanho da representação gerada pela RNN (hidden_size)."
   ]
  },
  {
   "cell_type": "code",
   "execution_count": 5,
   "metadata": {
    "tags": []
   },
   "outputs": [
    {
     "output_type": "stream",
     "name": "stdout",
     "text": "Temos 3 inputs de tamanho máximo 5 representado por 4 dimensões.\n"
    }
   ],
   "source": [
    "rnn = torch.nn.RNN(input_size=embedding_size, hidden_size=4, batch_first=True)\n",
    "output, _ = rnn(input_matrix)\n",
    "print(\"Temos {0} inputs de tamanho máximo {1} representado por {2} dimensões.\".format(*output.shape))"
   ]
  },
  {
   "cell_type": "code",
   "execution_count": 6,
   "metadata": {},
   "outputs": [
    {
     "output_type": "execute_result",
     "data": {
      "text/plain": "(tensor([[[ 0.1327, -0.2652,  0.1166,  0.5217],\n          [ 0.4505, -0.4592, -0.0879,  0.5919],\n          [-0.1805, -0.5543, -0.1924,  0.4813],\n          [-0.3260, -0.5714, -0.0638,  0.3516],\n          [-0.1919, -0.2689,  0.0424,  0.6110]],\n \n         [[-0.3055,  0.0515,  0.1328,  0.8655],\n          [-0.3236, -0.5573,  0.3173,  0.7333],\n          [-0.2653, -0.5605, -0.2684,  0.6069],\n          [-0.6161, -0.3906, -0.2380,  0.2492],\n          [-0.5688,  0.1714, -0.3716,  0.6469]],\n \n         [[ 0.2037, -0.4912, -0.1436,  0.5007],\n          [ 0.2306, -0.4825,  0.1618,  0.6633],\n          [-0.0481, -0.6419,  0.3294,  0.6914],\n          [-0.1996, -0.6144,  0.1493,  0.7116],\n          [-0.2556, -0.5254,  0.1035,  0.6727]]], grad_fn=<TransposeBackward1>),\n tensor([[ 0.2605,  0.2417, -0.4428,  0.0173],\n         [-0.3816,  0.3981, -0.4339,  0.2331],\n         [ 0.3449, -0.3089,  0.0009,  0.0886],\n         [ 0.3689,  0.4550, -0.4122, -0.4445]], grad_fn=<PermuteBackward>),\n tensor([[[ 0.3684,  0.1278, -0.1586, -0.2811],\n          [ 0.4806,  0.2225, -0.2443, -0.3701],\n          [ 0.2757,  0.0141,  0.1219, -0.3633],\n          [ 0.2408, -0.1267,  0.2474, -0.3007],\n          [ 0.2926,  0.1114, -0.0501, -0.3338]],\n \n         [[ 0.2658,  0.2994, -0.2437, -0.3662],\n          [ 0.5083, -0.0645,  0.0832, -0.4333],\n          [ 0.2760,  0.0717,  0.1103, -0.4287],\n          [-0.0016, -0.1175,  0.3394, -0.2336],\n          [-0.1031,  0.3399, -0.0895, -0.2903]],\n \n         [[ 0.3756,  0.1258, -0.0836, -0.3462],\n          [ 0.5446,  0.1155, -0.1660, -0.3890],\n          [ 0.6010, -0.0544,  0.0152, -0.4286],\n          [ 0.4964, -0.0152,  0.0618, -0.4497],\n          [ 0.4177,  0.0031,  0.0640, -0.4167]]], grad_fn=<UnsafeViewBackward>))"
     },
     "metadata": {},
     "execution_count": 6
    }
   ],
   "source": [
    "linear = torch.nn.Linear(4, 4, bias=False)\n",
    "output, linear.weight.T, linear(output)"
   ]
  },
  {
   "cell_type": "code",
   "execution_count": null,
   "metadata": {},
   "outputs": [],
   "source": []
  }
 ],
 "metadata": {
  "language_info": {
   "codemirror_mode": {
    "name": "ipython",
    "version": 3
   },
   "file_extension": ".py",
   "mimetype": "text/x-python",
   "name": "python",
   "nbconvert_exporter": "python",
   "pygments_lexer": "ipython3",
   "version": "3.8.2-final"
  },
  "orig_nbformat": 2,
  "kernelspec": {
   "name": "python38264bitgeneralvenvc4cf915d2c6c41e5adbfa847c95cabc9",
   "display_name": "Python 3.8.2 64-bit ('general': venv)"
  }
 },
 "nbformat": 4,
 "nbformat_minor": 2
}