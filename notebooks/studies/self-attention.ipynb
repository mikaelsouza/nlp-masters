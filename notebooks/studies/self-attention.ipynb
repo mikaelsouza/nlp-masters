{
 "cells": [
  {
   "cell_type": "markdown",
   "metadata": {},
   "source": [
    "# Estudo de Self-Attention"
   ]
  },
  {
   "cell_type": "code",
   "execution_count": 1,
   "metadata": {
    "tags": []
   },
   "outputs": [],
   "source": [
    "import torch\n",
    "import numpy as np"
   ]
  },
  {
   "cell_type": "markdown",
   "metadata": {},
   "source": [
    "Sentenças Fictícias:\n",
    "\n",
    "- o mikas ta ali\n",
    "- eu gosto de batata frita\n",
    "- existem elefantes\n",
    "\n",
    "Informações\n",
    "- O tamanho da maior sentença é 5.\n",
    "- Temos 3 exemplos de teste.\n",
    "- Usaremos inteiros para representar cada palavra.\n",
    "- Usaremos 0 para representar os espaços vazios das sentenças.\n",
    "- O tamanho do nosso vocabulário é 12 pois temos 12 palavras distintas.\n"
   ]
  },
  {
   "cell_type": "code",
   "execution_count": 2,
   "metadata": {
    "tags": []
   },
   "outputs": [
    {
     "output_type": "stream",
     "name": "stdout",
     "text": "Temos 3 sentenças e a maior sentença tem 5 tokens.\n"
    },
    {
     "output_type": "execute_result",
     "data": {
      "text/plain": "torch.Size([3, 5])"
     },
     "metadata": {},
     "execution_count": 2
    }
   ],
   "source": [
    "sentence_matrix = torch.LongTensor([\n",
    "    [1,   2,  3,  4, 0], #       o     mikas   ta      ali\n",
    "    [5,   6,  7,  8, 9], #      eu     gosto   de   batata   frita\n",
    "    [10, 11,  0,  0, 0], # existem elefantes\n",
    "\n",
    "])\n",
    "qnt_sentences, max_sentence_len = sentence_matrix.shape\n",
    "print(f\"Temos {qnt_sentences} sentenças e a maior sentença tem {max_sentence_len} tokens.\")\n",
    "sentence_matrix.shape"
   ]
  },
  {
   "cell_type": "markdown",
   "metadata": {},
   "source": [
    "Em geral não usamos representações inteiras para representar palavras, mas sim embedding.\n",
    "\n",
    "Geraremos embeddings fictícios de tamanho 10 para os 12 tokens disponíveis no vocabulário."
   ]
  },
  {
   "cell_type": "code",
   "execution_count": 3,
   "metadata": {
    "tags": []
   },
   "outputs": [
    {
     "output_type": "stream",
     "name": "stdout",
     "text": "Temos 5 embeddings de tamanho 10.\n"
    }
   ],
   "source": [
    "vocab_size = len(sentence_matrix.unique())\n",
    "embedding_size = 10\n",
    "embeddings = np.random.random((vocab_size, embedding_size))\n",
    "print(f\"Temos {max_sentence_len} embeddings de tamanho {embedding_size}.\")"
   ]
  },
  {
   "cell_type": "markdown",
   "metadata": {},
   "source": [
    "Agora geraremos a matriz de input para os modelos.\n",
    "\n",
    "- Nela teremos o shape 3, 5, 10 que representam as 3 sentenças com no máximo 5 tokens.\n",
    "- Cada token é representado por um embedding de tamanho 10."
   ]
  },
  {
   "cell_type": "code",
   "execution_count": 4,
   "metadata": {
    "tags": []
   },
   "outputs": [
    {
     "output_type": "stream",
     "name": "stdout",
     "text": "Temos 3 instancias de no máximo 5 tokens representados por embeddings de tamanho 10.\n"
    },
    {
     "output_type": "execute_result",
     "data": {
      "text/plain": "(3, 5, 10)"
     },
     "metadata": {},
     "execution_count": 4
    }
   ],
   "source": [
    "indexes = sentence_matrix\n",
    "input_matrix = embeddings[indexes]\n",
    "print(f\"Temos {input_matrix.shape[0]} instancias de no máximo {input_matrix.shape[1]} tokens representados por embeddings de tamanho {input_matrix.shape[2]}.\")\n",
    "input_matrix.shape"
   ]
  },
  {
   "cell_type": "code",
   "execution_count": null,
   "metadata": {},
   "outputs": [],
   "source": []
  }
 ],
 "metadata": {
  "language_info": {
   "codemirror_mode": {
    "name": "ipython",
    "version": 3
   },
   "file_extension": ".py",
   "mimetype": "text/x-python",
   "name": "python",
   "nbconvert_exporter": "python",
   "pygments_lexer": "ipython3",
   "version": "3.8.2-final"
  },
  "orig_nbformat": 2,
  "kernelspec": {
   "name": "python38264bitgeneralvenvc4cf915d2c6c41e5adbfa847c95cabc9",
   "display_name": "Python 3.8.2 64-bit ('general': venv)"
  }
 },
 "nbformat": 4,
 "nbformat_minor": 2
}