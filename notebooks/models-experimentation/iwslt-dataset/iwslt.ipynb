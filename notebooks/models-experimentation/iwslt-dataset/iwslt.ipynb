{
 "cells": [
  {
   "cell_type": "markdown",
   "metadata": {},
   "source": [
    "# IWSLT Experiments\n",
    "\n",
    "Notebook para carregar os dados do IWSLT num formato compatível com o PyTorch."
   ]
  },
  {
   "cell_type": "markdown",
   "metadata": {},
   "source": [
    "Fiz o download de todas os datasets de machine translation. Quero verificar se existem talks em inglês com IDs distintos entre os datasets.\n",
    "\n",
    "Segundo o artigo, tem que existir 1710 talks distintas."
   ]
  },
  {
   "cell_type": "code",
   "execution_count": 1,
   "metadata": {},
   "outputs": [],
   "source": [
    "import os"
   ]
  },
  {
   "cell_type": "markdown",
   "metadata": {},
   "source": [
    "Primeiro precisamos listar todos os arquivos disponíveis para verificação:"
   ]
  },
  {
   "cell_type": "code",
   "execution_count": 2,
   "metadata": {},
   "outputs": [
    {
     "data": {
      "text/plain": [
       "['data/ar-en/train.tags.ar-en.en',\n",
       " 'data/ar-en/.ipynb_checkpoints/train.tags.ar-en-checkpoint.en',\n",
       " 'data/de-en/train.tags.de-en.en',\n",
       " 'data/en-fr/train.tags.en-fr.en',\n",
       " 'data/nl-en/train.tags.nl-en.en',\n",
       " 'data/pl-en/train.tags.pl-en.en',\n",
       " 'data/pt-br-en/train.tags.pt-br-en.en',\n",
       " 'data/ro-en/train.tags.ro-en.en',\n",
       " 'data/ru-en/train.tags.ru-en.en',\n",
       " 'data/sl-en/train.tags.sl-en.en',\n",
       " 'data/tr-en/train.tags.tr-en.en',\n",
       " 'data/zh-en/train.tags.zh-en.en']"
      ]
     },
     "execution_count": 2,
     "metadata": {},
     "output_type": "execute_result"
    }
   ],
   "source": [
    "path = 'data/'\n",
    "\n",
    "files = []\n",
    "\n",
    "for r, d, f in os.walk(path):\n",
    "    for file in f:\n",
    "        if 'train.tags.' in file and file.endswith('.en'):\n",
    "            files.append(os.path.join(r, file))\n",
    "files"
   ]
  },
  {
   "cell_type": "markdown",
   "metadata": {},
   "source": [
    "Agora é necessário carrega-los em memória.\n",
    "\n",
    "Toda talk tem um campo \\<talkid> com um número específico indicando qual a talks"
   ]
  },
  {
   "cell_type": "code",
   "execution_count": 3,
   "metadata": {},
   "outputs": [
    {
     "data": {
      "text/plain": [
       "['<url>http://www.ted.com/talks/stephen_palumbi_following_the_mercury_trail.html</url>\\n']"
      ]
     },
     "execution_count": 3,
     "metadata": {},
     "output_type": "execute_result"
    }
   ],
   "source": [
    "opened_files = [open(x) for x in files]\n",
    "talks = [x.readlines() for x in opened_files]\n",
    "talks[0][:1]"
   ]
  },
  {
   "cell_type": "markdown",
   "metadata": {},
   "source": [
    "Podemos contar a quantidade de talks naquele documento a partir da quantidade dessas chaves"
   ]
  },
  {
   "cell_type": "code",
   "execution_count": 4,
   "metadata": {},
   "outputs": [
    {
     "name": "stdout",
     "output_type": "stream",
     "text": [
      "Quantidade de <talkid encontrados em cada arquivo\n",
      "data/ar-en/train.tags.ar-en.en:\t\t1015\n",
      "data/ar-en/.ipynb_checkpoints/train.tags.ar-en-checkpoint.en:\t\t1015\n",
      "data/de-en/train.tags.de-en.en:\t\t976\n",
      "data/en-fr/train.tags.en-fr.en:\t\t1029\n",
      "data/nl-en/train.tags.nl-en.en:\t\t963\n",
      "data/pl-en/train.tags.pl-en.en:\t\t995\n",
      "data/pt-br-en/train.tags.pt-br-en.en:\t\t1025\n",
      "data/ro-en/train.tags.ro-en.en:\t\t1034\n",
      "data/ru-en/train.tags.ru-en.en:\t\t903\n",
      "data/sl-en/train.tags.sl-en.en:\t\t128\n",
      "data/tr-en/train.tags.tr-en.en:\t\t941\n",
      "data/zh-en/train.tags.zh-en.en:\t\t1017\n"
     ]
    }
   ],
   "source": [
    "counter = [0] * len(talks)\n",
    "\n",
    "for index, lines in enumerate(talks):\n",
    "    for line in lines:\n",
    "        if '<talkid' in line:\n",
    "            counter[index] += 1\n",
    "\n",
    "print(\"Quantidade de <talkid encontrados em cada arquivo\")\n",
    "\n",
    "for filename, c in zip(files, counter):\n",
    "    print(f\"{filename}:\\t\\t{c}\")"
   ]
  },
  {
   "cell_type": "markdown",
   "metadata": {},
   "source": [
    "Precisamos verificar o quanto desses são valores únicos.\n",
    "\n",
    "A nossa hipótese é que juntando todos, temos 1710 talks únicas."
   ]
  },
  {
   "cell_type": "code",
   "execution_count": 5,
   "metadata": {},
   "outputs": [
    {
     "name": "stdout",
     "output_type": "stream",
     "text": [
      "Quantidade de talkids únicos: 1045\n"
     ]
    }
   ],
   "source": [
    "tids = []\n",
    "\n",
    "for lines in talks:\n",
    "    for line in lines:\n",
    "        if '<talkid>' in line:\n",
    "            l = line.strip()\n",
    "            l = l[8:-9]\n",
    "            tids.append(int(l))\n",
    "tids = set(tids)\n",
    "print(f\"Quantidade de talkids únicos: {len(tids)}\")"
   ]
  },
  {
   "cell_type": "markdown",
   "metadata": {},
   "source": [
    "Valor de talkids obtidos 1045 != 1710 descritos no artigo.\n",
    "\n",
    "#### Perguntas:\n",
    "\n",
    "- Será um problema na metodologia?\n",
    "- Será que o artigo está incorreto?\n",
    "- Será que faltam dados na base de dados?"
   ]
  },
  {
   "cell_type": "code",
   "execution_count": null,
   "metadata": {},
   "outputs": [],
   "source": []
  }
 ],
 "metadata": {
  "kernelspec": {
   "display_name": "Python 3",
   "language": "python",
   "name": "python3"
  },
  "language_info": {
   "codemirror_mode": {
    "name": "ipython",
    "version": 3
   },
   "file_extension": ".py",
   "mimetype": "text/x-python",
   "name": "python",
   "nbconvert_exporter": "python",
   "pygments_lexer": "ipython3",
   "version": "3.8.2"
  }
 },
 "nbformat": 4,
 "nbformat_minor": 4
}
