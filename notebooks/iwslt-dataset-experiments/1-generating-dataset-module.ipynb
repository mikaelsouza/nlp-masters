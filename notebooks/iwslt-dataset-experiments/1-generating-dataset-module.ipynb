{
 "metadata": {
  "language_info": {
   "codemirror_mode": {
    "name": "ipython",
    "version": 3
   },
   "file_extension": ".py",
   "mimetype": "text/x-python",
   "name": "python",
   "nbconvert_exporter": "python",
   "pygments_lexer": "ipython3",
   "version": "3.8.5-final"
  },
  "orig_nbformat": 2,
  "kernelspec": {
   "name": "python38564bit385pyenv15b540295b4f4efd9a044469a2d20dc8",
   "display_name": "Python 3.8.5 64-bit ('3.8.5': pyenv)"
  }
 },
 "nbformat": 4,
 "nbformat_minor": 2,
 "cells": [
  {
   "cell_type": "markdown",
   "metadata": {},
   "source": [
    "# Notebook para geração do módulo de Dataset usando Pytorch Lightning\n",
    "\n",
    "O objetivo deste notebook é gerar um módulo de dataset com as seguintes funções:\n",
    "\n",
    "- Separe o texto em treino, teste e validação.\n",
    "- Gere os labels automaticamente a partir dos textos de dataset em `data/IWSLT/raw`."
   ]
  },
  {
   "cell_type": "code",
   "execution_count": 5,
   "metadata": {},
   "outputs": [],
   "source": [
    "import pytorch_lightning as pl\n",
    "import os\n",
    "import torch\n",
    "import transformers\n",
    "from pytorch_lightning.loggers import TensorBoardLogger\n",
    "from torch.utils.data import Dataset, DataLoader\n",
    "from pathlib import Path\n",
    "from typing import Dict, List, Tuple\n",
    "from torch.utils.data import DataLoader, random_split\n",
    "\n",
    "dataset_path = Path('../../data/IWSLT/raw/')"
   ]
  },
  {
   "cell_type": "code",
   "execution_count": 6,
   "metadata": {
    "tags": []
   },
   "outputs": [],
   "source": [
    "tokenizer = transformers.BertTokenizer.from_pretrained('bert-base-uncased')\n",
    "filepath = os.path.join(dataset_path, 'train.txt')\n",
    "punc_dict = {\n",
    "    ',COMMA':        1,\n",
    "    '.PERIOD':       2,\n",
    "    '?QUESTIONMARK': 3,\n",
    "}"
   ]
  },
  {
   "cell_type": "code",
   "execution_count": 7,
   "metadata": {},
   "outputs": [],
   "source": [
    "class IWSLTDataset(Dataset):\n",
    "    def __init__(self, path, tokenizer, max_len, punc_dict, tok_max_len=278):\n",
    "\n",
    "        self.path = path\n",
    "        self.tokenizer = tokenizer\n",
    "        self.max_len = max_len\n",
    "        self.punc_dict = punc_dict\n",
    "        self.tok_max_len = tok_max_len\n",
    "\n",
    "        data = self._load_data(path)\n",
    "        token_list, punc_list = self._preprocess_IWSLT(data)\n",
    "        self.data, self.labels = self._tokens_to_sentence(token_list, punc_list, max_len)\n",
    "\n",
    "    def _load_data(self, path):\n",
    "        with open(path) as f:\n",
    "            data = f.read()\n",
    "            data = data.split()\n",
    "        return data\n",
    "\n",
    "    def _preprocess_IWSLT(self, data):\n",
    "        token_list = list()\n",
    "        punc_list = list()\n",
    "        \n",
    "        for token in data:\n",
    "            if token in punc_dict:\n",
    "                punc_list.pop()\n",
    "                punc_list.append(self.punc_dict[token])\n",
    "            else:\n",
    "                token_list.append(token)\n",
    "                punc_list.append(0)\n",
    "        return token_list, punc_list\n",
    "\n",
    "    def _tokens_to_sentence(self, token_list, punc_list, max_len):\n",
    "        phrases = list()\n",
    "        labels = list()\n",
    "\n",
    "        for i in range(0, len(token_list), max_len):\n",
    "            j = i + max_len if max_len < len(token_list) else len(token_list)\n",
    "            phrases.append(' '.join(token_list[i:j]))\n",
    "            labels.append(punc_list[i:j])\n",
    "        return phrases[:-1], labels[:-1]\n",
    "\n",
    "    def __len__(self):\n",
    "        return len(self.data)\n",
    "\n",
    "    def __getitem__(self, idx):\n",
    "        data = tokenizer.encode_plus(\n",
    "            self.data[idx],\n",
    "            max_length=self.tok_max_len,\n",
    "            pad_to_max_length=True,\n",
    "            truncation=True,\n",
    "            return_tensors='pt'\n",
    "        )\n",
    "        target = torch.LongTensor(self.labels[idx])\n",
    "\n",
    "        data['input_ids'] = data['input_ids'].float().squeeze(0)\n",
    "        data['attention_mask'] = data['attention_mask'].float().squeeze(0)\n",
    "\n",
    "        return {\n",
    "            'sentence': self.data[idx],\n",
    "            'input_ids': data['input_ids'],\n",
    "            'attention_mask': data['attention_mask'],\n",
    "            'target': target,\n",
    "        }\n"
   ]
  },
  {
   "cell_type": "code",
   "execution_count": 8,
   "metadata": {},
   "outputs": [],
   "source": [
    "ds = IWSLTDataset(path=filepath,\n",
    "                  tokenizer=tokenizer,\n",
    "                  max_len=200,\n",
    "                  punc_dict=punc_dict)\n",
    "        "
   ]
  },
  {
   "cell_type": "code",
   "execution_count": 9,
   "metadata": {},
   "outputs": [],
   "source": [
    "class IWSLTDataModule(pl.LightningDataModule):\n",
    "    def __init__(self, train, test, val, tokenizer, max_len, punc_dict, tok_max_len=278, batch_size=8):\n",
    "        super().__init__()\n",
    "        self.train_path = train\n",
    "        self.test_path = test\n",
    "        self.val_path =  val\n",
    "        self.tokenizer = tokenizer\n",
    "        self.max_len = max_len\n",
    "        self.punc_dict = punc_dict\n",
    "        self.tok_max_len = tok_max_len\n",
    "        self.batch_size = batch_size\n",
    "\n",
    "    def prepare_data(self, sentence_size=200):\n",
    "        self.train_dataset = IWSLTDataset(self.train_path, self.tokenizer, self.max_len,\n",
    "                                          self.punc_dict, self.tok_max_len)\n",
    "        self.test_dataset = IWSLTDataset(self.test_path, self.tokenizer, self.max_len,\n",
    "                                          self.punc_dict, self.tok_max_len)\n",
    "        self.val_dataset = IWSLTDataset(self.val_path, self.tokenizer, self.max_len,\n",
    "                                          self.punc_dict, self.tok_max_len)\n",
    "    def setup(self):\n",
    "        pass\n",
    "\n",
    "    def train_dataloader(self):\n",
    "        return DataLoader(self.train_dataset, batch_size=self.batch_size, num_workers=8)\n",
    "\n",
    "    def val_dataloader(self):\n",
    "        return DataLoader(self.val_dataset, batch_size=self.batch_size)\n",
    "\n",
    "    def test_dataloader(self):\n",
    "        return DataLoader(self.test-dataset, batch_size=self.batch_size)"
   ]
  },
  {
   "cell_type": "code",
   "execution_count": 10,
   "metadata": {},
   "outputs": [],
   "source": [
    "class Model(pl.LightningModule):\n",
    "    def __init__(self):\n",
    "        super().__init__()\n",
    "        self.l1 = torch.nn.LSTM(1, 50, batch_first=True)\n",
    "        self.l2 = torch.nn.Linear(50, 30522)\n",
    "\n",
    "    def forward(self, x):\n",
    "        return torch.softmax(self.l2(self.l1(x)[0]), dim=-1)\n",
    "    \n",
    "    def training_step(self, batch, batch_idx):\n",
    "        x = batch['input_ids'].float().unsqueeze(2)\n",
    "        y_hat = self(x)\n",
    "        y = batch['input_ids'].long()\n",
    "        loss = torch.nn.functional.cross_entropy(y_hat.permute(0, 2, 1), y)\n",
    "        return pl.TrainResult(loss)\n",
    "\n",
    "    def configure_optimizers(self):\n",
    "        return torch.optim.Adam(self.parameters(), lr=0.02)"
   ]
  },
  {
   "cell_type": "code",
   "execution_count": 11,
   "metadata": {
    "tags": []
   },
   "outputs": [
    {
     "output_type": "stream",
     "name": "stderr",
     "text": "GPU available: True, used: True\nTPU available: False, using: 0 TPU cores\nCUDA_VISIBLE_DEVICES: [0,1]\n"
    }
   ],
   "source": [
    "train = os.path.join(dataset_path, 'train.txt')\n",
    "test = os.path.join(dataset_path, 'ref.txt') \n",
    "val = os.path.join(dataset_path, 'dev.txt')\n",
    "\n",
    "dm = IWSLTDataModule(train, test, val, tokenizer, 200, punc_dict, 278, batch_size=48)\n",
    "dm.prepare_data()\n",
    "dm.setup()\n",
    "model = Model()\n",
    "logger = TensorBoardLogger(\n",
    "    save_dir=os.getcwd(),\n",
    "    version=1,\n",
    "    name='lightning_logs'\n",
    ")\n",
    "trainer = pl.Trainer(max_epochs=20, logger=logger, gpus=1)\n"
   ]
  },
  {
   "cell_type": "code",
   "execution_count": 4,
   "metadata": {
    "tags": []
   },
   "outputs": [
    {
     "output_type": "error",
     "ename": "NameError",
     "evalue": "name 'trainer' is not defined",
     "traceback": [
      "\u001b[0;31m---------------------------------------------------------------------------\u001b[0m",
      "\u001b[0;31mNameError\u001b[0m                                 Traceback (most recent call last)",
      "\u001b[0;32m<ipython-input-4-d47d1b932123>\u001b[0m in \u001b[0;36m<module>\u001b[0;34m\u001b[0m\n\u001b[0;32m----> 1\u001b[0;31m \u001b[0mtrainer\u001b[0m\u001b[0;34m.\u001b[0m\u001b[0mfit\u001b[0m\u001b[0;34m(\u001b[0m\u001b[0mmodel\u001b[0m\u001b[0;34m,\u001b[0m \u001b[0mdm\u001b[0m\u001b[0;34m)\u001b[0m\u001b[0;34m\u001b[0m\u001b[0;34m\u001b[0m\u001b[0m\n\u001b[0m",
      "\u001b[0;31mNameError\u001b[0m: name 'trainer' is not defined"
     ]
    }
   ],
   "source": [
    "trainer.fit(model, dm)"
   ]
  },
  {
   "cell_type": "code",
   "execution_count": null,
   "metadata": {},
   "outputs": [],
   "source": []
  },
  {
   "cell_type": "code",
   "execution_count": null,
   "metadata": {},
   "outputs": [],
   "source": []
  }
 ]
}