{
 "metadata": {
  "language_info": {
   "codemirror_mode": {
    "name": "ipython",
    "version": 3
   },
   "file_extension": ".py",
   "mimetype": "text/x-python",
   "name": "python",
   "nbconvert_exporter": "python",
   "pygments_lexer": "ipython3",
   "version": "3.8.5-final"
  },
  "orig_nbformat": 2,
  "kernelspec": {
   "name": "python38564bit385pyenv15b540295b4f4efd9a044469a2d20dc8",
   "display_name": "Python 3.8.5 64-bit ('3.8.5': pyenv)"
  }
 },
 "nbformat": 4,
 "nbformat_minor": 2,
 "cells": [
  {
   "cell_type": "markdown",
   "metadata": {},
   "source": [
    "# Notebook para geração do módulo de Dataset usando Pytorch Lightning\n",
    "\n",
    "O objetivo deste notebook é gerar um módulo de dataset com as seguintes funções:\n",
    "\n",
    "- Separe o texto em treino, teste e validação.\n",
    "- Gere os labels automaticamente a partir dos textos de dataset em `data/IWSLT/raw`."
   ]
  },
  {
   "cell_type": "code",
   "execution_count": 7,
   "metadata": {},
   "outputs": [],
   "source": [
    "import pytorch_lightning as pl\n",
    "import os\n",
    "from pathlib import Path\n",
    "\n",
    "dataset_path = Path('../../data/IWSLT/raw/')"
   ]
  },
  {
   "cell_type": "code",
   "execution_count": 2,
   "metadata": {},
   "outputs": [],
   "source": [
    "class IWSLTDataset(pl.LightningDataModule):\n",
    "    def __init__(self, dataset_path, tokenizer, ref=True):\n",
    "        super().__init__()\n",
    "        self.dataset_path = dataset_path\n",
    "    \n",
    "    def prepare_data(self):\n",
    "        # called on 1 gpu\n",
    "        pass\n",
    "\n",
    "    def setup(self):\n",
    "        # called on every GPU\n",
    "        pass\n",
    "        \n",
    "    def train_dataloader(self):\n",
    "        pass\n",
    "\n",
    "    def val_dataloader(self):\n",
    "        pass\n",
    "\n",
    "    def test_dataloader(self):\n",
    "        pass"
   ]
  },
  {
   "cell_type": "code",
   "execution_count": 12,
   "metadata": {
    "tags": []
   },
   "outputs": [],
   "source": [
    "import transformers\n",
    "x = os.walk(dataset_path)\n",
    "tokenizer = transformers.BertTokenizer.from_pretrained('bert-base-uncased')\n",
    "\n",
    "filepath = os.path.join(dataset_path, 'train.txt')"
   ]
  },
  {
   "cell_type": "code",
   "execution_count": 20,
   "metadata": {},
   "outputs": [],
   "source": [
    "with open(filepath) as f:\n",
    "    data = f.read()"
   ]
  },
  {
   "cell_type": "code",
   "execution_count": 22,
   "metadata": {},
   "outputs": [
    {
     "output_type": "execute_result",
     "data": {
      "text/plain": "['it',\n 'can',\n 'be',\n 'a',\n 'very',\n 'complicated',\n 'thing',\n ',COMMA',\n 'the',\n 'ocean',\n '.PERIOD',\n 'and',\n 'it',\n 'can',\n 'be',\n 'a',\n 'very',\n 'complicated',\n 'thing',\n ',COMMA',\n 'what',\n 'human',\n 'health',\n 'is',\n '.PERIOD',\n 'and',\n 'bringing',\n 'those',\n 'two',\n 'together',\n 'might',\n 'seem',\n 'a',\n 'very',\n 'daunting',\n 'task',\n '.PERIOD',\n 'but',\n 'what',\n 'i',\n \"'m\",\n 'going',\n 'to',\n 'try',\n 'to',\n 'say',\n 'is',\n 'that',\n 'even',\n 'in',\n 'that',\n 'complexity',\n ',COMMA',\n 'there',\n \"'s\",\n 'some',\n 'simple',\n 'themes',\n 'that',\n 'i',\n 'think',\n ',COMMA',\n 'if',\n 'we',\n 'understand',\n ',COMMA',\n 'we',\n 'can',\n 'really',\n 'move',\n 'forward',\n '.PERIOD',\n 'and',\n 'those',\n 'simple',\n 'themes',\n 'are',\n \"n't\",\n 'really',\n 'themes',\n 'about',\n 'the',\n 'complex',\n 'science',\n 'of',\n 'what',\n \"'s\",\n 'going',\n 'on',\n ',COMMA',\n 'but',\n 'things',\n 'that',\n 'we',\n 'all',\n 'pretty',\n 'well',\n 'know',\n '.PERIOD',\n 'and',\n 'i',\n \"'m\",\n 'going',\n 'to',\n 'start',\n 'with',\n 'this',\n 'one',\n ',COMMA',\n 'if',\n 'momma',\n 'ai',\n \"n't\",\n 'happy',\n ',COMMA',\n 'ai',\n \"n't\",\n 'nobody',\n 'happy',\n '.PERIOD',\n 'we',\n 'know',\n 'that',\n ',COMMA',\n 'right',\n '?QUESTIONMARK',\n \"we've\",\n 'experienced',\n 'that',\n '.PERIOD',\n 'and',\n 'if',\n 'we',\n 'just',\n 'take',\n 'that',\n 'and',\n 'we',\n 'build',\n 'from',\n 'there',\n ',COMMA',\n 'then',\n 'we',\n 'can',\n 'go',\n 'to',\n 'the',\n 'next',\n 'step',\n ',COMMA',\n 'which',\n 'is',\n 'that',\n 'if',\n 'the',\n 'ocean',\n 'ai',\n \"n't\",\n 'happy',\n ',COMMA',\n 'ai',\n \"n't\",\n 'nobody',\n 'happy',\n '.PERIOD',\n 'that',\n \"'s\",\n 'the',\n 'theme',\n 'of',\n 'my',\n 'talk',\n '.PERIOD',\n 'and',\n 'we',\n \"'re\",\n 'making',\n 'the',\n 'ocean',\n 'pretty',\n 'unhappy',\n 'in',\n 'a',\n 'lot',\n 'of',\n 'different',\n 'ways',\n '.PERIOD',\n 'this',\n 'is',\n 'a',\n 'shot',\n 'of',\n 'cannery',\n 'row',\n 'in',\n '1932',\n '.PERIOD',\n 'cannery',\n 'row',\n ',COMMA',\n 'at',\n 'the',\n 'time',\n ',COMMA',\n 'had',\n 'the',\n 'biggest',\n 'industrial',\n 'canning',\n 'operation',\n 'on',\n 'the',\n 'west',\n 'coast',\n '.PERIOD',\n 'we',\n 'piled',\n 'enormous',\n 'amounts',\n 'of',\n 'pollution',\n 'into',\n 'the',\n 'air',\n 'and',\n 'into',\n 'the',\n 'water',\n '.PERIOD',\n 'rolf',\n 'bolin',\n ',COMMA',\n 'who',\n 'was',\n 'a',\n 'professor',\n 'at',\n 'the',\n 'hopkin',\n \"'s\",\n 'marine',\n 'station',\n 'where',\n 'i',\n 'work',\n ',COMMA',\n 'wrote',\n 'in',\n 'the',\n '1940s',\n 'that',\n 'the',\n 'fumes',\n 'from',\n 'the',\n 'scum',\n 'floating',\n 'on',\n 'the',\n 'inlets',\n 'of',\n 'the',\n 'bay',\n 'were',\n 'so',\n 'bad',\n 'they',\n 'turned',\n 'lead-based',\n 'paints',\n 'black',\n '.PERIOD',\n 'people',\n 'working',\n 'in',\n 'these',\n 'canneries',\n 'could',\n 'barely',\n 'stay',\n 'there',\n 'all',\n 'day',\n 'because',\n 'of',\n 'the',\n 'smell',\n '.PERIOD',\n 'but',\n 'you',\n 'know',\n 'what',\n 'they',\n 'came',\n 'out',\n 'saying',\n '?QUESTIONMARK',\n 'they',\n 'say',\n ',COMMA',\n 'you',\n 'know',\n 'what',\n 'you',\n 'smell',\n '?QUESTIONMARK',\n 'you',\n 'smell',\n 'money',\n '.PERIOD',\n 'that',\n 'pollution',\n 'was',\n 'money',\n 'to',\n 'that',\n 'community',\n '.PERIOD',\n 'and',\n 'those',\n 'people',\n 'dealt',\n 'with',\n 'the',\n 'pollution',\n 'and',\n 'absorbed',\n 'it',\n 'into',\n 'their',\n 'skin',\n 'and',\n 'into',\n 'their',\n 'bodies',\n 'because',\n 'they',\n 'needed',\n 'the',\n 'money',\n '.PERIOD',\n 'we',\n 'made',\n 'the',\n 'ocean',\n 'unhappy',\n '.PERIOD',\n 'we',\n 'made',\n 'people',\n 'very',\n 'unhappy',\n ',COMMA',\n 'and',\n 'we',\n 'made',\n 'them',\n 'unhealthy',\n '.PERIOD',\n 'the',\n 'connection',\n 'between',\n 'ocean',\n 'health',\n 'and',\n 'human',\n 'health',\n 'is',\n 'actually',\n 'based',\n 'upon',\n 'another',\n 'couple',\n 'simple',\n 'adages',\n '.PERIOD',\n 'and',\n 'i',\n 'want',\n 'to',\n 'call',\n 'that',\n 'pinch',\n 'a',\n 'minnow',\n ',COMMA',\n 'hurt',\n 'a',\n 'whale',\n '.PERIOD',\n 'the',\n 'pyramid',\n 'of',\n 'ocean',\n 'life',\n '.PERIOD',\n 'now',\n ',COMMA',\n 'when',\n 'an',\n 'ecologist',\n 'looks',\n 'at',\n 'the',\n 'ocean',\n ',COMMA',\n 'i',\n 'have',\n 'to',\n 'tell',\n 'you',\n ',COMMA',\n 'we',\n 'look',\n 'at',\n 'the',\n 'ocean',\n 'in',\n 'a',\n 'very',\n 'different',\n 'way',\n ',COMMA',\n 'and',\n 'we',\n 'see',\n 'different',\n 'things',\n 'than',\n 'when',\n 'a',\n 'regular',\n 'person',\n 'looks',\n 'at',\n 'the',\n 'ocean',\n 'because',\n 'when',\n 'an',\n 'ecologist',\n 'looks',\n 'at',\n 'the',\n 'ocean',\n ',COMMA',\n 'we',\n 'see',\n 'all',\n 'those',\n 'interconnections',\n '.PERIOD',\n 'we',\n 'see',\n 'the',\n 'base',\n 'of',\n 'the',\n 'food',\n 'chain',\n ',COMMA',\n 'the',\n 'plankton',\n ',COMMA',\n 'the',\n 'small',\n 'things',\n ',COMMA',\n 'and',\n 'we',\n 'see',\n 'how',\n 'those',\n 'animals',\n 'are',\n 'food',\n 'to',\n 'animals',\n 'in',\n 'the',\n 'middle',\n 'of',\n 'the',\n 'pyramid',\n ',COMMA',\n 'and',\n 'on',\n 'so',\n 'up',\n 'this',\n 'diagram',\n '.PERIOD',\n 'and',\n 'that',\n 'flow',\n ',COMMA',\n 'that',\n 'flow',\n 'of',\n 'life',\n ',COMMA',\n 'from',\n 'the',\n 'very',\n 'base',\n 'up',\n 'to',\n 'the',\n 'very',\n 'top',\n ',COMMA',\n 'is',\n 'the',\n 'flow',\n 'that',\n 'ecologists',\n 'see',\n '.PERIOD',\n 'and',\n 'that',\n \"'s\",\n 'what',\n 'we',\n \"'re\",\n 'trying',\n 'to',\n 'preserve',\n '.PERIOD',\n 'when',\n 'we',\n 'say',\n ',COMMA',\n 'save',\n 'the',\n 'ocean',\n '.PERIOD',\n 'heal',\n 'the',\n 'ocean',\n '.PERIOD',\n 'it',\n \"'s\",\n 'that',\n 'pyramid',\n '.PERIOD',\n 'now',\n 'why',\n 'does',\n 'that',\n 'matter',\n 'for',\n 'human',\n 'health',\n '?QUESTIONMARK',\n 'because',\n 'when',\n 'we',\n 'jam',\n 'things',\n 'in',\n 'the',\n 'bottom',\n 'of',\n 'that',\n 'pyramid',\n 'that',\n 'should',\n \"n't\",\n 'be',\n 'there',\n ',COMMA',\n 'some',\n 'very',\n 'frightening',\n 'things',\n 'happen',\n '.PERIOD',\n 'pollutants',\n ',COMMA',\n 'some',\n 'pollutants',\n 'have',\n 'been',\n 'created',\n 'by',\n 'us',\n ',COMMA',\n 'molecules',\n 'like',\n 'pcbs',\n 'that',\n 'cannot',\n 'be',\n 'broken',\n 'down',\n 'by',\n 'our',\n 'bodies',\n '.PERIOD',\n 'and',\n 'they',\n 'go',\n 'in',\n 'the',\n 'base',\n 'of',\n 'that',\n 'pyramid',\n ',COMMA',\n 'and',\n 'they',\n 'drift',\n 'up',\n '.PERIOD',\n 'they',\n \"'re\",\n 'passed',\n 'up',\n 'that',\n 'way',\n ',COMMA',\n 'on',\n 'to',\n 'predators',\n 'and',\n 'on',\n 'to',\n 'the',\n 'top',\n 'predators',\n '.PERIOD',\n 'and',\n 'in',\n 'so',\n 'doing',\n ',COMMA',\n 'they',\n 'accumulate',\n '.PERIOD',\n 'now',\n ',COMMA',\n 'to',\n 'bring',\n 'that',\n 'home',\n ',COMMA',\n 'i',\n 'thought',\n \"i'd\",\n 'invent',\n 'a',\n 'little',\n 'game',\n '.PERIOD',\n 'we',\n 'do',\n \"n't\",\n 'really',\n 'have',\n 'to',\n 'play',\n 'it',\n '.PERIOD',\n 'we',\n 'can',\n 'just',\n 'think',\n 'about',\n 'it',\n 'here',\n '.PERIOD',\n 'it',\n \"'s\",\n 'the',\n 'styrofoam',\n 'and',\n 'chocolate',\n 'game',\n '.PERIOD',\n 'imagine',\n 'that',\n 'when',\n 'we',\n 'got',\n 'on',\n 'this',\n 'boat',\n ',COMMA',\n 'we',\n 'were',\n 'all',\n 'given',\n 'two',\n 'styrofoam',\n 'peanuts',\n '.PERIOD',\n 'ca',\n \"n't\",\n 'do',\n 'much',\n 'with',\n 'them',\n ',COMMA',\n 'put',\n 'them',\n 'in',\n 'your',\n 'pocket',\n '.PERIOD',\n 'suppose',\n 'the',\n 'rules',\n 'are',\n ',COMMA',\n 'every',\n 'time',\n 'you',\n 'offer',\n 'somebody',\n 'a',\n 'drink',\n ',COMMA',\n 'you',\n 'give',\n 'them',\n 'the',\n 'drink',\n ',COMMA',\n 'and',\n 'you',\n 'give',\n 'them',\n 'your',\n 'styrofoam',\n 'peanuts',\n 'too',\n '.PERIOD',\n 'what',\n \"'ll\",\n 'happen',\n 'is',\n 'that',\n 'the',\n 'styrofoam',\n 'peanuts',\n 'will',\n 'start',\n 'moving',\n 'through',\n 'our',\n 'society',\n 'here',\n ',COMMA',\n 'and',\n 'they',\n 'will',\n 'accumulate',\n 'in',\n 'the',\n 'drunkest',\n ',COMMA',\n 'stingiest',\n 'people',\n '.PERIOD',\n 'there',\n \"'s\",\n 'no',\n 'mechanism',\n 'in',\n 'this',\n 'game',\n 'for',\n 'them',\n 'to',\n 'go',\n 'anywhere',\n 'but',\n 'into',\n 'a',\n 'bigger',\n 'and',\n 'bigger',\n 'pile',\n 'of',\n 'indigestible',\n 'styrofoam',\n 'peanuts',\n '.PERIOD',\n 'and',\n 'that',\n \"'s\",\n 'exactly',\n 'what',\n 'happens',\n 'with',\n 'pdbs',\n 'in',\n 'this',\n 'food',\n 'pyramid:',\n '.PERIOD',\n 'they',\n 'accumulate',\n 'into',\n 'the',\n 'top',\n 'of',\n 'it',\n '.PERIOD',\n 'now',\n 'suppose',\n ',COMMA',\n 'instead',\n 'of',\n 'styrofoam',\n 'peanuts',\n ',COMMA',\n 'we',\n 'take',\n 'these',\n 'lovely',\n 'little',\n 'chocolates',\n 'that',\n 'we',\n 'get',\n 'and',\n 'we',\n 'had',\n 'those',\n 'instead',\n '.PERIOD',\n 'well',\n ',COMMA',\n 'some',\n 'of',\n 'us',\n 'would',\n 'be',\n 'eating',\n 'those',\n 'chocolates',\n 'instead',\n 'of',\n 'passing',\n 'them',\n 'around',\n '.PERIOD',\n 'and',\n 'instead',\n 'of',\n 'accumulating',\n ',COMMA',\n 'they',\n 'will',\n 'just',\n 'pass',\n 'into',\n 'our',\n 'group',\n 'here',\n 'and',\n 'not',\n 'accumulate',\n 'in',\n 'any',\n 'one',\n 'group',\n '.PERIOD',\n 'because',\n 'they',\n \"'re\",\n 'absorbed',\n 'by',\n 'us',\n '.PERIOD',\n 'and',\n 'that',\n \"'s\",\n 'the',\n 'difference',\n 'between',\n 'a',\n 'pcb',\n 'and',\n ',COMMA',\n 'say',\n ',COMMA',\n 'something',\n 'natural',\n 'like',\n 'an',\n 'omega-3',\n ',COMMA',\n 'something',\n 'we',\n 'want',\n 'out',\n 'of',\n 'the',\n 'marine',\n 'food',\n 'chain',\n '.PERIOD',\n 'pcbs',\n 'accumulate',\n '.PERIOD',\n 'we',\n 'have',\n 'great',\n 'examples',\n 'of',\n 'that',\n ',COMMA',\n 'unfortunately',\n '.PERIOD',\n 'pcbs',\n 'accumulate',\n 'in',\n 'dolphins',\n 'in',\n 'sarasota',\n 'bay',\n ',COMMA',\n 'in',\n 'texas',\n ',COMMA',\n 'in',\n 'north',\n 'carolina',\n '.PERIOD',\n 'they',\n 'get',\n 'into',\n 'the',\n 'food',\n 'chain',\n '.PERIOD',\n 'the',\n 'dolphins',\n 'eat',\n 'the',\n 'fish',\n 'that',\n 'have',\n 'pcbs',\n 'from',\n 'the',\n 'plankton',\n ',COMMA',\n 'and',\n 'those',\n 'pcbs',\n ',COMMA',\n 'being',\n 'fat-soluble',\n ',COMMA',\n 'accumulate',\n 'in',\n 'these',\n 'dolphins',\n '.PERIOD',\n 'now',\n ',COMMA',\n 'a',\n 'dolphin',\n ',COMMA',\n 'mother',\n 'dolphin',\n ',COMMA',\n 'any',\n 'dolphin',\n ',COMMA',\n 'there',\n \"'s\",\n 'only',\n 'one',\n 'way',\n 'that',\n 'a',\n 'pcb',\n 'can',\n 'get',\n 'out',\n 'of',\n 'a',\n 'dolphin',\n '.PERIOD',\n 'and',\n 'what',\n \"'s\",\n 'that',\n '?QUESTIONMARK',\n 'in',\n 'mother',\n \"'s\",\n 'milk',\n '.PERIOD',\n ...]"
     },
     "metadata": {},
     "execution_count": 22
    }
   ],
   "source": [
    "data.split()"
   ]
  },
  {
   "cell_type": "code",
   "execution_count": null,
   "metadata": {},
   "outputs": [],
   "source": []
  }
 ]
}